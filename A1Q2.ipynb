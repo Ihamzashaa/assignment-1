{
 "cells": [
  {
   "cell_type": "code",
   "execution_count": 7,
   "id": "f86c44c3-30da-4e4a-b902-2bd51d7bc272",
   "metadata": {},
   "outputs": [
    {
     "name": "stdout",
     "output_type": "stream",
     "text": [
      "2 3 5 7 11 13 17 31 37 71 73 79 97 113 131 197 199 311 337 373 719 733 919 971 991 \n",
      "count  25\n"
     ]
    }
   ],
   "source": [
    "import math\n",
    "limit=1000\n",
    "def isPrime(num):\n",
    "    flag=1\n",
    "    if num > 1:\n",
    "        for i in range(2,num):\n",
    "            if (num % i) == 0:\n",
    "                flag=0\n",
    "                break\n",
    "            else:\n",
    "                flag=1\n",
    "    else:\n",
    "        return 0\n",
    "    if flag==1:\n",
    "        return 1\n",
    "    else:\n",
    "        return 0\n",
    "\n",
    "    \n",
    "def rotation(n):\n",
    "  rotations =[]\n",
    "  for i in range( len( str(n) ) ):\n",
    "    m = int( str(n)[i:] + str(n)[:i] )\n",
    "  \n",
    "    rotations.append(m)\n",
    "  return rotations\n",
    "\n",
    "def rotationPrime(returnedlist):\n",
    "    primeflag=1\n",
    "    for check in range(len(returnedlist)):\n",
    "            if isPrime(returnedlist[check]):\n",
    "                primeflag=1 \n",
    "            else:\n",
    "                primeflag=0\n",
    "                break\n",
    "    return primeflag\n",
    "pf=1\n",
    "count=0\n",
    "for i in range(2,limit):\n",
    "    \n",
    "    if isPrime(i):\n",
    "        returnedlist=rotation(i) \n",
    "        pf=rotationPrime(returnedlist)\n",
    "        count=count+pf\n",
    "        if pf==1:\n",
    "            print(i,end=\" \")\n",
    "            \n",
    "print(\"\\ncount \",count)\n",
    "            \n"
   ]
  },
  {
   "cell_type": "code",
   "execution_count": null,
   "id": "7e003c5c-fdfc-42d0-8314-41ee2d892b6e",
   "metadata": {},
   "outputs": [],
   "source": []
  },
  {
   "cell_type": "code",
   "execution_count": null,
   "id": "c0ca1ec1-cb0f-47b7-bfe5-291eae091611",
   "metadata": {},
   "outputs": [],
   "source": []
  },
  {
   "cell_type": "code",
   "execution_count": null,
   "id": "f88e2a0a-0469-4838-91e9-25ade3116a2a",
   "metadata": {},
   "outputs": [],
   "source": []
  }
 ],
 "metadata": {
  "kernelspec": {
   "display_name": "Python 3",
   "language": "python",
   "name": "python3"
  },
  "language_info": {
   "codemirror_mode": {
    "name": "ipython",
    "version": 3
   },
   "file_extension": ".py",
   "mimetype": "text/x-python",
   "name": "python",
   "nbconvert_exporter": "python",
   "pygments_lexer": "ipython3",
   "version": "3.8.8"
  }
 },
 "nbformat": 4,
 "nbformat_minor": 5
}
