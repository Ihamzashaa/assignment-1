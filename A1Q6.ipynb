{
 "cells": [
  {
   "cell_type": "code",
   "execution_count": 5,
   "metadata": {},
   "outputs": [],
   "source": [
    "class MyCircularQueue():\n",
    "    def __init__(self,k):\n",
    "        self.k=k\n",
    "        self.queue=[None]*k\n",
    "        self.head=self.tail=-1\n",
    "    def enqueue(self,data):\n",
    "        if((self.tail+1)%self.k==self.head):\n",
    "            print(\"The Circular Queue is full\\n\")\n",
    "        elif (self.head==-1):\n",
    "            self.head=0\n",
    "            self.tail=0\n",
    "            self.queue[self.tail]=data\n",
    "        else:\n",
    "            self.tail=(self.tail+1)%self.k\n",
    "            self.queue[self.tail]=data\n",
    "    def dequeue(self):\n",
    "        if(self.head==-1):\n",
    "            print(\"The Circular Queue is empty\\n\")\n",
    "        elif(self.head==self.tail):\n",
    "            temp=self.queue[self.head]\n",
    "            self.head=-1\n",
    "            self.tail=-1\n",
    "            return temp\n",
    "        else:\n",
    "            temp=self.queue[self.head]\n",
    "            self.head=(self.head+1)%self.k\n",
    "            return temp\n",
    "    def printQueue(self):\n",
    "        if(self.head==-1):\n",
    "            print(\"No element in the Circular Queue\\n\")\n",
    "        elif(self.tail>=self.head):\n",
    "            for i in range(self.head,self.tail+1):\n",
    "                print(self.queue[i], end=\" \")\n",
    "            print()\n",
    "        else:\n",
    "            for i in range(self.head,self.k):\n",
    "                print(self.queue[i], end=\" \")\n",
    "            for i in range(0,self.tail):\n",
    "                print(self.queue[i], end=\" \")\n",
    "            print()"
   ]
  },
  {
   "cell_type": "code",
   "execution_count": 7,
   "metadata": {},
   "outputs": [],
   "source": [
    "obj = MyCircularQueue(5)"
   ]
  },
  {
   "cell_type": "code",
   "execution_count": 8,
   "metadata": {},
   "outputs": [],
   "source": [
    "obj.enqueue(1)"
   ]
  },
  {
   "cell_type": "code",
   "execution_count": 9,
   "metadata": {},
   "outputs": [
    {
     "name": "stdout",
     "output_type": "stream",
     "text": [
      "1 2 3 4 5 \n"
     ]
    }
   ],
   "source": [
    "obj.enqueue(2)\n",
    "obj.enqueue(3)\n",
    "obj.enqueue(4)\n",
    "obj.enqueue(5)\n",
    "obj.printQueue()"
   ]
  },
  {
   "cell_type": "code",
   "execution_count": null,
   "metadata": {},
   "outputs": [],
   "source": []
  }
 ],
 "metadata": {
  "kernelspec": {
   "display_name": "Python 3",
   "language": "python",
   "name": "python3"
  },
  "language_info": {
   "codemirror_mode": {
    "name": "ipython",
    "version": 3
   },
   "file_extension": ".py",
   "mimetype": "text/x-python",
   "name": "python",
   "nbconvert_exporter": "python",
   "pygments_lexer": "ipython3",
   "version": "3.7.3"
  }
 },
 "nbformat": 4,
 "nbformat_minor": 2
}
