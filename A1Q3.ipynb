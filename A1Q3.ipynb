{
 "cells": [
  {
   "cell_type": "code",
   "execution_count": 7,
   "id": "f86c44c3-30da-4e4a-b902-2bd51d7bc272",
   "metadata": {},
   "outputs": [
    {
     "name": "stdout",
     "output_type": "stream",
     "text": [
      "sum 0\n"
     ]
    }
   ],
   "source": [
    "def isPrime(n):\n",
    "    if n in {2, 3, 5, 7}:\n",
    "        return True\n",
    "    if n < 2 or n%2 == 0:\n",
    "        return False\n",
    "    if n%3 == 0 or n%5 == 0:\n",
    "        return False\n",
    "    r = int(n**0.5)\n",
    "    F = 5\n",
    "    while F <= r:\n",
    "        if n%F == 0 or n%(f+2) == 0:\n",
    "            return False\n",
    "        F += 6\n",
    "    return True\n",
    "\n",
    "def Gen(nb):\n",
    "    yield nb\n",
    "    nb_str = str(nb)\n",
    "    for k in range(1, len(nb_str)):\n",
    "        yield int(nb_str[k:])\n",
    "        yield int(nb_str[:-k])\n",
    "\n",
    "def Check(nb):\n",
    "    for t in Gen(nb):\n",
    "        if not isPrime(t):\n",
    "            return False\n",
    "    return True\n",
    "\n",
    "C = S = 0\n",
    "i = 11\n",
    "while c < 11:\n",
    "    if Check(i):\n",
    "        C += 1\n",
    "        S += i\n",
    "        print(i)\n",
    "    i += 2\n",
    "\n",
    "print('sum', S)"
   ]
  },
  {
   "cell_type": "code",
   "execution_count": null,
   "id": "7e003c5c-fdfc-42d0-8314-41ee2d892b6e",
   "metadata": {},
   "outputs": [],
   "source": []
  },
  {
   "cell_type": "code",
   "execution_count": null,
   "id": "c0ca1ec1-cb0f-47b7-bfe5-291eae091611",
   "metadata": {},
   "outputs": [],
   "source": []
  }
 ],
 "metadata": {
  "kernelspec": {
   "display_name": "Python 3",
   "language": "python",
   "name": "python3"
  },
  "language_info": {
   "codemirror_mode": {
    "name": "ipython",
    "version": 3
   },
   "file_extension": ".py",
   "mimetype": "text/x-python",
   "name": "python",
   "nbconvert_exporter": "python",
   "pygments_lexer": "ipython3",
   "version": "3.8.8"
  }
 },
 "nbformat": 4,
 "nbformat_minor": 5
}
